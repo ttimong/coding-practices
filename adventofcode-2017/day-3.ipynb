{
 "cells": [
  {
   "cell_type": "markdown",
   "metadata": {},
   "source": [
    "# --- Day 3: Spiral Memory ---\n",
    "\n",
    "## Part 1\n",
    "\n",
    "You come across an experimental new kind of memory stored on an infinite two-dimensional grid.\n",
    "\n",
    "Each square on the grid is allocated in a spiral pattern starting at a location marked 1 and then counting up while spiraling outward. For example, the first few squares are allocated like this:\n",
    "\n",
    "17  16  15  14  13\n",
    "\n",
    "18   5   4   3  12\n",
    "\n",
    "19   6   1   2  11\n",
    "\n",
    "20   7   8   9  10\n",
    "\n",
    "21  22  23---> ...\n",
    "\n",
    "While this is very space-efficient (no squares are skipped), requested data must be carried back to square 1 (the location of the only access port for this memory system) by programs that can only move up, down, left, or right. They always take the shortest path: the Manhattan Distance between the location of the data and square 1.\n",
    "\n",
    "For example:\n",
    "\n",
    "- Data from square 1 is carried 0 steps, since it's at the access port.\n",
    "- Data from square 12 is carried 3 steps, such as: down, left, left.\n",
    "- Data from square 23 is carried only 2 steps: up twice.\n",
    "- Data from square 1024 must be carried 31 steps.\n",
    "\n",
    "How many steps are required to carry the data from the square identified in your puzzle input all the way to the access port?\n",
    "\n",
    "Your puzzle input is 289326."
   ]
  },
  {
   "cell_type": "code",
   "execution_count": 316,
   "metadata": {
    "collapsed": true,
    "scrolled": true
   },
   "outputs": [],
   "source": [
    "import numpy as np"
   ]
  },
  {
   "cell_type": "code",
   "execution_count": 323,
   "metadata": {
    "collapsed": true,
    "scrolled": true
   },
   "outputs": [],
   "source": [
    "# creating a list of odd numbers\n",
    "odd = [i for i in range(10000000) if i % 2 ==1]"
   ]
  },
  {
   "cell_type": "code",
   "execution_count": 324,
   "metadata": {
    "collapsed": true,
    "scrolled": true
   },
   "outputs": [],
   "source": [
    "# creating a list of odd^2 because the bottom right hand corner is always a odd number sq\n",
    "sq = [i**2 for i in odd_list]"
   ]
  },
  {
   "cell_type": "code",
   "execution_count": 370,
   "metadata": {
    "scrolled": true
   },
   "outputs": [],
   "source": [
    "# stop appending odd^2 to search list if test case if more than odd^2\n",
    "# I am trying to solve for odd, i.e. trying to see at which odd my test case will fall under\n",
    "test = 312051\n",
    "search = []\n",
    "for index, ele in enumerate(sq):\n",
    "    if test > ele:\n",
    "        search.append(ele)\n",
    "        \n",
    "# using the length of the search list as my index for the sq list and odd list\n",
    "index = len(search)"
   ]
  },
  {
   "cell_type": "code",
   "execution_count": 371,
   "metadata": {
    "scrolled": true
   },
   "outputs": [],
   "source": [
    "# defining the outer range for each side of the spiral square\n",
    "# added a plus 1 to starting range because I want to start at 1 and not 0\n",
    "bottomplane = [i for i in range((sq[index]-odd[index])+1,sq[index]+1)]\n",
    "leftplane = [i for i in range(bottomplane[0]+1-odd[index],bottomplane[0]+1)]\n",
    "topplane = [i for i in range(leftplane[0]+1-odd[index],leftplane[0]+1)]\n",
    "rightplane = [i for i in range(topplane[0]+1-odd[index],topplane[0]+1)]"
   ]
  },
  {
   "cell_type": "code",
   "execution_count": 372,
   "metadata": {
    "collapsed": true
   },
   "outputs": [],
   "source": [
    "# figuring out which side of the square my test case falls under\n",
    "if test in bottomplane:\n",
    "    where = bottomplane\n",
    "elif test in leftplane:\n",
    "    where = leftplane\n",
    "elif test in topplane:\n",
    "    where = topplane\n",
    "else:\n",
    "    where = rightplane"
   ]
  },
  {
   "cell_type": "code",
   "execution_count": 373,
   "metadata": {},
   "outputs": [],
   "source": [
    "# bottomplane is my x-axis and leftplane is my y-axis\n",
    "# start point is always at 1\n",
    "# calculating coordinate of 1\n",
    "sx = (odd[index]-1)/2\n",
    "sy = (odd[index]-1)/2\n",
    "\n",
    "# end point is confirm at one of the plane\n",
    "if test in bottomplane:\n",
    "    ex = abs(test-where[0])\n",
    "    ey = 0\n",
    "elif test in leftplane:\n",
    "    ex = 0\n",
    "    ey = abs(test-where[0])\n",
    "elif test in topplane:\n",
    "    ex = abs(test-where[0])\n",
    "    ey = odd[index]-1       # minus 1 because my bottom left hand corner should be always (0,0), hence I want to start at 0\n",
    "elif test in rightplane:\n",
    "    ex = odd[index]-1\n",
    "    ey = abs(test-where[0])"
   ]
  },
  {
   "cell_type": "code",
   "execution_count": 374,
   "metadata": {},
   "outputs": [
    {
     "data": {
      "text/plain": [
       "430"
      ]
     },
     "execution_count": 374,
     "metadata": {},
     "output_type": "execute_result"
    }
   ],
   "source": [
    "ans = abs(ex-sx) + abs(ey-sy)\n",
    "ans"
   ]
  },
  {
   "cell_type": "markdown",
   "metadata": {},
   "source": [
    "## Part 2\n",
    "\n",
    "As a stress test on the system, the programs here clear the grid and then store the value 1 in square 1. Then, in the same allocation order as shown above, they store the sum of the values in all adjacent squares, including diagonals.\n",
    "\n",
    "So, the first few squares' values are chosen as follows:\n",
    "\n",
    "- Square 1 starts with the value 1.\n",
    "- Square 2 has only one adjacent filled square (with value 1), so it also stores 1.\n",
    "- Square 3 has both of the above squares as neighbors and stores the sum of their values, 2.\n",
    "- Square 4 has all three of the aforementioned squares as neighbors and stores the sum of their values, 4.\n",
    "- Square 5 only has the first and fourth squares as neighbors, so it gets the value 5.\n",
    "- Once a square is written, its value does not change. Therefore, the first few squares would receive the following values:\n",
    "\n",
    "147  142  133  122   59\n",
    "\n",
    "304    5    4    2   57\n",
    "\n",
    "330   10    1    1   54\n",
    "\n",
    "351   11   23   25   26\n",
    "\n",
    "362  747  806--->   ...\n",
    "\n",
    "What is the first value written that is larger than your puzzle input?\n",
    "\n",
    "Your puzzle input is still 289326."
   ]
  },
  {
   "cell_type": "code",
   "execution_count": null,
   "metadata": {
    "collapsed": true
   },
   "outputs": [],
   "source": []
  }
 ],
 "metadata": {
  "kernelspec": {
   "display_name": "Python 2",
   "language": "python",
   "name": "python2"
  },
  "language_info": {
   "codemirror_mode": {
    "name": "ipython",
    "version": 2
   },
   "file_extension": ".py",
   "mimetype": "text/x-python",
   "name": "python",
   "nbconvert_exporter": "python",
   "pygments_lexer": "ipython2",
   "version": "2.7.13"
  }
 },
 "nbformat": 4,
 "nbformat_minor": 2
}
