{
 "cells": [
  {
   "cell_type": "markdown",
   "metadata": {},
   "source": [
    "# --- Day 2: Corruption Checksum ---\n",
    "\n",
    "## Part 1\n",
    "As you walk through the door, a glowing humanoid shape yells in your direction. \"You there! Your state appears to be idle. Come help us repair the corruption in this spreadsheet - if we take another millisecond, we'll have to display an hourglass cursor!\"\n",
    "\n",
    "The spreadsheet consists of rows of apparently-random numbers. To make sure the recovery process is on the right track, they need you to calculate the spreadsheet's checksum. For each row, determine the difference between the largest value and the smallest value; the checksum is the sum of all of these differences.\n",
    "\n",
    "For example, given the following spreadsheet:\n",
    "\n",
    "5 1 9 5\n",
    "\n",
    "7 5 3\n",
    "\n",
    "2 4 6 8\n",
    "\n",
    "- The first row's largest and smallest values are 9 and 1, and their difference is 8.\n",
    "- The second row's largest and smallest values are 7 and 3, and their difference is 4.\n",
    "- The third row's difference is 6.\n",
    "- In this example, the spreadsheet's checksum would be 8 + 4 + 6 = 18.\n",
    "\n",
    "What is the checksum for the spreadsheet in your puzzle input?"
   ]
  },
  {
   "cell_type": "code",
   "execution_count": 17,
   "metadata": {},
   "outputs": [
    {
     "name": "stdout",
     "output_type": "stream",
     "text": [
      "[[1208, 412, 743, 57, 1097, 53, 71, 1029, 719, 133, 258, 69, 1104, 373, 367, 365], [4011, 4316, 1755, 4992, 228, 240, 3333, 208, 247, 3319, 4555, 717, 1483, 4608, 1387, 3542], [675, 134, 106, 115, 204, 437, 1035, 1142, 195, 1115, 569, 140, 1133, 190, 701, 1016], [4455, 2184, 5109, 221, 3794, 246, 5214, 4572, 3571, 3395, 2054, 5050, 216, 878, 237, 3880], [4185, 5959, 292, 2293, 118, 5603, 2167, 5436, 3079, 167, 243, 256, 5382, 207, 5258, 4234], [94, 402, 126, 1293, 801, 1604, 1481, 1292, 1428, 1051, 345, 1510, 1417, 684, 133, 119], [120, 1921, 115, 3188, 82, 334, 366, 3467, 103, 863, 3060, 2123, 3429, 1974, 557, 3090], [53, 446, 994, 71, 872, 898, 89, 982, 957, 789, 1040, 100, 133, 82, 84, 791], [2297, 733, 575, 2896, 1470, 169, 2925, 1901, 195, 2757, 1627, 1216, 148, 3037, 392, 221], [1343, 483, 67, 1655, 57, 71, 1562, 447, 58, 1561, 889, 1741, 1338, 88, 1363, 560], [2387, 3991, 3394, 6300, 2281, 6976, 234, 204, 6244, 854, 1564, 210, 195, 7007, 3773, 3623], [1523, 77, 1236, 1277, 112, 171, 70, 1198, 86, 1664, 1767, 75, 315, 143, 1450, 1610], [168, 2683, 1480, 200, 1666, 1999, 3418, 2177, 156, 430, 2959, 3264, 2989, 136, 110, 3526], [8702, 6973, 203, 4401, 8135, 7752, 1704, 8890, 182, 9315, 255, 229, 6539, 647, 6431, 6178], [2290, 157, 2759, 3771, 4112, 2063, 153, 3538, 3740, 130, 3474, 1013, 180, 2164, 170, 189], [525, 1263, 146, 954, 188, 232, 1019, 918, 268, 172, 1196, 1091, 1128, 234, 650, 420]]\n"
     ]
    }
   ],
   "source": [
    "day2 = []\n",
    "with open(\"day2.txt\", 'r') as f:\n",
    "    for line in f:\n",
    "        inputline = []\n",
    "        for ele in line.split('\\t'):\n",
    "            inputline.append(int(ele))\n",
    "        \n",
    "        day2.append(inputline)\n",
    "print day2"
   ]
  },
  {
   "cell_type": "code",
   "execution_count": 22,
   "metadata": {
    "scrolled": true
   },
   "outputs": [
    {
     "data": {
      "text/plain": [
       "54426"
      ]
     },
     "execution_count": 22,
     "metadata": {},
     "output_type": "execute_result"
    }
   ],
   "source": [
    "ans = 0\n",
    "for row in range(len(day2)):\n",
    "    largest_ele = max(day2[row])\n",
    "    smallest_ele = min(day2[row])\n",
    "    ans+=(largest_ele-smallest_ele)\n",
    "ans"
   ]
  },
  {
   "cell_type": "markdown",
   "metadata": {},
   "source": [
    "## Part 2\n",
    "\"Great work; looks like we're on the right track after all. Here's a star for your effort.\" However, the program seems a little worried. Can programs be worried?\n",
    "\n",
    "\"Based on what we're seeing, it looks like all the User wanted is some information about the evenly divisible values in the spreadsheet. Unfortunately, none of us are equipped for that kind of calculation - most of us specialize in bitwise operations.\"\n",
    "\n",
    "It sounds like the goal is to find the only two numbers in each row where one evenly divides the other - that is, where the result of the division operation is a whole number. They would like you to find those numbers on each line, divide them, and add up each line's result.\n",
    "\n",
    "For example, given the following spreadsheet:\n",
    "\n",
    "5 9 2 8\n",
    "\n",
    "9 4 7 3\n",
    "\n",
    "3 8 6 5\n",
    "\n",
    "- In the first row, the only two numbers that evenly divide are 8 and 2; the result of this division is 4.\n",
    "- In the second row, the two numbers are 9 and 3; the result is 3.\n",
    "- In the third row, the result is 2.\n",
    "- In this example, the sum of the results would be 4 + 3 + 2 = 9.\n",
    "\n",
    "What is the sum of each row's result in your puzzle input?\n",
    "\n"
   ]
  },
  {
   "cell_type": "code",
   "execution_count": 25,
   "metadata": {
    "collapsed": true
   },
   "outputs": [],
   "source": [
    "ans = 0\n",
    "for row in range(len(day2)):\n",
    "    for a in day2[row]:\n",
    "        for b in day2[row]:\n",
    "            if (a != b) and (a%b == 0):\n",
    "                ans+=a/b"
   ]
  },
  {
   "cell_type": "code",
   "execution_count": 26,
   "metadata": {},
   "outputs": [
    {
     "data": {
      "text/plain": [
       "333"
      ]
     },
     "execution_count": 26,
     "metadata": {},
     "output_type": "execute_result"
    }
   ],
   "source": [
    "ans"
   ]
  },
  {
   "cell_type": "code",
   "execution_count": null,
   "metadata": {
    "collapsed": true
   },
   "outputs": [],
   "source": []
  }
 ],
 "metadata": {
  "kernelspec": {
   "display_name": "Python 2",
   "language": "python",
   "name": "python2"
  },
  "language_info": {
   "codemirror_mode": {
    "name": "ipython",
    "version": 2
   },
   "file_extension": ".py",
   "mimetype": "text/x-python",
   "name": "python",
   "nbconvert_exporter": "python",
   "pygments_lexer": "ipython2",
   "version": "2.7.13"
  }
 },
 "nbformat": 4,
 "nbformat_minor": 2
}
